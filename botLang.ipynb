{
 "cells": [
  {
   "cell_type": "code",
   "execution_count": 2,
   "metadata": {
    "collapsed": false
   },
   "outputs": [
    {
     "name": "stdout",
     "output_type": "stream",
     "text": [
      "Alice:  everything else can me can a everything . \n",
      "Bob:  have . balls me else have can me balls \n",
      "Alice:  me i to have ball ball ball . \n",
      "Bob:  else you else . balls can have \n",
      "Alice:  can a ball else me can i have ball \n",
      "Bob:  can have . 0 balls balls balls to . \n",
      "Alice:  i to zero balls 0 ball you i \n",
      "Bob:  . can have ball have zero ball i \n",
      "Alice:  else zero i a i . to me \n",
      "Bob:  ball to . have everything 0 i 0 \n"
     ]
    }
   ],
   "source": [
    "s = \"\"\"can i i everything else . . . . . . . . . . . . . .\n",
    "balls have zero to me to me to me to me to me to me to me to me to\n",
    "you i everything else . . . . . . . . . . . . . .\n",
    "balls have a ball to me to me to me to me to me to me to me\n",
    "i can i i i everything else . . . . . . . . . . . . . .\n",
    "balls have a ball to me to me to me to me to me to me to me\n",
    "i . . . . . . . . . . . . . . . . . . .\n",
    "balls have zero to me to me to me to me to me to me to me to me to\n",
    "you i i i i i everything else . . . . . . . . . . . . . .\n",
    "balls have 0 to me to me to me to me to me to me to me to me to\n",
    "you i i i everything else . . . . . . . . . . . . . .\n",
    "balls have zero to me to me to me to me to me to me to me to me to\"\"\"\n",
    "\n",
    "import random\n",
    "vocab = list(set(s.split()))\n",
    "speakers = [\"Alice\", \"Bob\"]\n",
    "for i, j in enumerate(range(10)):\n",
    "    speaker = speakers[i % 2]\n",
    "    print(\"{}: \".format(speaker), end = \" \")\n",
    "    for word in range(random.randrange(7,10)):\n",
    "        print(random.choice(vocab), end=\" \" )\n",
    "    print(\"\")"
   ]
  },
  {
   "cell_type": "code",
   "execution_count": null,
   "metadata": {
    "collapsed": true
   },
   "outputs": [],
   "source": []
  }
 ],
 "metadata": {
  "kernelspec": {
   "display_name": "Python 3",
   "language": "python",
   "name": "python3"
  },
  "language_info": {
   "codemirror_mode": {
    "name": "ipython",
    "version": 3
   },
   "file_extension": ".py",
   "mimetype": "text/x-python",
   "name": "python",
   "nbconvert_exporter": "python",
   "pygments_lexer": "ipython3",
   "version": "3.6.0"
  }
 },
 "nbformat": 4,
 "nbformat_minor": 2
}
